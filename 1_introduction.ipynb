{
 "metadata": {
  "kernelspec": {
   "display_name": "Python 3",
   "language": "python",
   "name": "python3"
  },
  "language_info": {
   "codemirror_mode": {
    "name": "ipython",
    "version": 3
   },
   "file_extension": ".py",
   "mimetype": "text/x-python",
   "name": "python",
   "nbconvert_exporter": "python",
   "pygments_lexer": "ipython3",
   "version": "3.5.2"
  },
  "name": "",
  "signature": "sha256:8398aca40e4dada7388d8292b77d4dd98268eb272c63a482e00086acc4a53179"
 },
 "nbformat": 3,
 "nbformat_minor": 0,
 "worksheets": [
  {
   "cells": [
    {
     "cell_type": "markdown",
     "metadata": {},
     "source": [
      "*This notebook was created by [Sergey Tomin](http://www.xfel.eu/organization/staff/tomin_sergey/) for Workshop: [Designing future X-ray FELs](http://www.xrayfels.co.uk/). Source and license info is on [GitHub](https://github.com/iagapov/ocelot/tree/dev/docs). August 2016.*"
     ]
    },
    {
     "cell_type": "markdown",
     "metadata": {},
     "source": [
      "# An Introduction to Ocelot\n",
      "\n",
      "Ocelot is a multiphysics simulation toolkit designed for studying FEL and storage ring based light sources. Ocelot is written in Python. Its central concept is the writing of python's scripts for simulations with the usage of Ocelot's modules and functions and the standard Python libraries. \n",
      "\n",
      "Ocelot includes following main modules:\n",
      "* **Charge particle beam dynamics module (CPBD)**\n",
      "    - optics\n",
      "    - tracking\n",
      "    - matching\n",
      "    - collective effects\n",
      "        - Space Charge (true 3D Laplace solver) \n",
      "        - CSR (Coherent Synchrotron Radiation) (1D model with arbitrary number of dipole) (under development).\n",
      "        - Wakefields (Taylor expansion up to second order for arbitrary geometry).\n",
      "    - MOGA (Multi Objective Genetics Algorithm). (under development but we have already applyed it for a storage ring [aplication](http://accelconf.web.cern.ch/AccelConf/ipac2016/papers/thpmb034.pdf))\n",
      "* **Native module for spontaneous radiation calculation**\n",
      "* **FEL calculations: interface to GENESIS and pre/post-processing**\n",
      "* **Modules for online beam control and online optimization of accelerator performances.** [Work1](http://accelconf.web.cern.ch/accelconf/IPAC2014/papers/mopro086.pdf), [work2](https://jacowfs.jlab.org/conf/y15/ipac15/prepress/TUPWA037.PDF), [work3](http://accelconf.web.cern.ch/AccelConf/ipac2016/papers/wepoy036.pdf).\n",
      "\n",
      "Ocelot extensively  uses Python's [NumPy (Numerical Python)](http://numpy.org) and [SciPy (Scientific Python)](http://scipy.org) libraries, which enable efficient in-core numerical and scientific computation within Python and give you access to various mathematical and optimization techniques and algorithms. To produce high quality figures Python's [matplotlib](http://matplotlib.org/index.html) library is used.\n",
      "\n",
      "It is an open source project and it is being developed by physicists from  [The European XFEL](http://www.xfel.eu/), [DESY](http://www.desy.de/) (Germany), [NRC Kurchatov Institute](http://www.nrcki.ru/) (Russia).\n",
      "\n",
      "We still have no documentation but you can find a lot of examples in ocelot/demos/ \n",
      "\n",
      "\n",
      "## Ocelot user profile\n",
      "\n",
      "Ocelot is designed for researchers who want to have the flexibility that is given by high-level languages such as Matlab, Python (with Numpy and SciPy) or Mathematica.\n",
      "However if someone needs a GUI  it can be developed using Python's libraries like a [PyQtGraph](http://www.pyqtgraph.org/) or [PyQt](http://pyqt.sourceforge.net/Docs/PyQt4/). \n",
      "\n",
      "For example, you can see GUI for SASE optimization (uncomment and run next block)"
     ]
    },
    {
     "cell_type": "code",
     "collapsed": false,
     "input": [
      "from IPython.display import Image\n",
      "#Image(filename='gui_example.png') "
     ],
     "language": "python",
     "metadata": {},
     "outputs": [],
     "prompt_number": 1
    },
    {
     "cell_type": "markdown",
     "metadata": {},
     "source": [
      "# An Introduction to Ocelot: Beam dynamics\n",
      "## Outline\n",
      "* Preliminaries: Setup & introduction\n",
      "* [Tutorial N1. Linear optics.](#tutorial1)\n",
      "    - Linear optics. DBA.\n",
      "* [Tutorial N2. Tracking.](2_tracking.ipynb)\n",
      "    - Linear optics of the European XFEL Injector\n",
      "    - Tracking. First and second order. \n",
      "* [Tutorial N3. Space Charge.](3_space_charge.ipynb)\n",
      "    - Tracking with SC effects.\n",
      "* [Tutorial N4. Wakefields.](4_wake.ipynb)\n",
      "    - Tracking with Wakefields\n",
      "\n",
      "* Tutorial N5. Interface to [Genesis](http://genesis.web.psi.ch/)\n",
      "\n",
      "All IPython (jupyter) notebooks (*.ipynb) have analogues in the form of python scripts (*.py). "
     ]
    },
    {
     "cell_type": "markdown",
     "metadata": {},
     "source": [
      "## Preliminaries\n",
      "\n",
      "The tutorial includes 4 simple examples dediacted to beam dynamics. However, you should have a basic understanding of Computer Programming terminologies. A basic understanding of Python language is a plus.\n",
      "\n",
      "##### This tutorial requires the following packages:\n",
      "\n",
      "- Python version 2.7 or 3.4-3.5\n",
      "- `numpy` version 1.8 or later: http://www.numpy.org/\n",
      "- `scipy` version 0.15 or later: http://www.scipy.org/\n",
      "- `matplotlib` version 1.5 or later: http://matplotlib.org/\n",
      "- `ipython` version 2.4 or later, with notebook support: http://ipython.org\n",
      "\n",
      "The easiest way to get these is to download and install the (very large) [Anaconda software distribution](https://www.continuum.io/).\n",
      "\n",
      "Alternatively, you can download and install [miniconda](http://conda.pydata.org/miniconda.html).\n",
      "The following command will install all required packages:\n",
      "```\n",
      "$ conda install numpy scipy matplotlib ipython-notebook\n",
      "```\n",
      "\n",
      "##### Ocelot installation\n",
      "1. you have to download from GitHub [zip file](https://github.com/iagapov/ocelot/archive/master.zip). \n",
      "2. Unzip ocelot-master.zip to your working folder **../your_working_dir/**. \n",
      "3. Rename folder **../your_working_dir/ocelot-master** to **../your_working_dir/ocelot**. \n",
      "4. Add **../your_working_dir/** to PYTHONPATH\n",
      "    - **Windows 7:** go to Control Panel -> System and Security -> System -> Advance System Settings -> Environment Variables.\n",
      "    and in User variables add **../your_working_dir/** to PYTHONPATH. If variable PYTHONPATH does not exist, create it\n",
      "    \n",
      "    Variable name: PYTHONPATH\n",
      "    \n",
      "    Variable value: **../your_working_dir/**\n",
      "    - **Linux:** \n",
      "    ```\n",
      "    $ export PYTHONPATH=**../your_working_dir/**:$PYTHONPATH\n",
      "    ```\n",
      "    \n",
      "#### To launch \"ipython notebook\" or \"jupyter notebook\"\n",
      "in command line run following commands:\n",
      "\n",
      "```\n",
      "$ ipython notebook\n",
      "```\n",
      "\n",
      "or\n",
      "```\n",
      "$ ipython notebook --notebook-dir=\"path_to_your_directory\"\n",
      "```\n",
      "\n",
      "or\n",
      "```\n",
      "$ jupyter notebook --notebook-dir=\"path_to_your_directory\"\n",
      "```"
     ]
    },
    {
     "cell_type": "markdown",
     "metadata": {},
     "source": [
      "### Checking your installation\n",
      "\n",
      "You can run the following code to check the versions of the packages on your system:\n",
      "\n",
      "(in IPython notebook, press `shift` and `return` together to execute the contents of a cell)"
     ]
    },
    {
     "cell_type": "code",
     "collapsed": false,
     "input": [
      "import IPython\n",
      "print('IPython:', IPython.__version__)\n",
      "\n",
      "import numpy\n",
      "print('numpy:', numpy.__version__)\n",
      "\n",
      "import scipy\n",
      "print('scipy:', scipy.__version__)\n",
      "\n",
      "import matplotlib\n",
      "print('matplotlib:', matplotlib.__version__)\n",
      "\n",
      "import ocelot\n",
      "print('ocelot:', ocelot.__version__)"
     ],
     "language": "python",
     "metadata": {},
     "outputs": [
      {
       "output_type": "stream",
       "stream": "stdout",
       "text": [
        "('IPython:', '2.4.1')\n",
        "('numpy:', '1.9.2')"
       ]
      },
      {
       "output_type": "stream",
       "stream": "stdout",
       "text": [
        "\n",
        "('scipy:', '0.15.1')\n",
        "('matplotlib:', '1.4.3')"
       ]
      },
      {
       "output_type": "stream",
       "stream": "stdout",
       "text": [
        "\n",
        "initializing ocelot..."
       ]
      },
      {
       "output_type": "stream",
       "stream": "stdout",
       "text": [
        "\n",
        "('ocelot:', '16.7.dev')\n"
       ]
      }
     ],
     "prompt_number": 2
    },
    {
     "cell_type": "code",
     "collapsed": true,
     "input": [
      "from __future__ import print_function\n",
      "\n",
      "# the output of plotting commands is displayed inline within frontends, \n",
      "# directly below the code cell that produced it\n",
      "%matplotlib inline"
     ],
     "language": "python",
     "metadata": {},
     "outputs": [],
     "prompt_number": 3
    },
    {
     "cell_type": "markdown",
     "metadata": {},
     "source": [
      "<a id=\"tutorial1\"></a>\n",
      "## Tutorial N1. Double Bend Achromat.\n",
      "\n",
      "We designed a simple lattice to demonstrate the basic concepts and syntax of the optics functions calculation. \n",
      "Also, we chose DBA to demonstrate the periodic solution for the optical functions calculation. "
     ]
    },
    {
     "cell_type": "code",
     "collapsed": false,
     "input": [
      "# import from Ocelot main modules and functions\n",
      "from ocelot import *\n",
      "\n",
      "# import from Ocelot graphical modules\n",
      "from ocelot.gui.accelerator import *"
     ],
     "language": "python",
     "metadata": {},
     "outputs": [],
     "prompt_number": 4
    },
    {
     "cell_type": "markdown",
     "metadata": {},
     "source": [
      "## Creating lattice\n",
      "Ocelot has following elements: Drift, Quadrupole, Sextupole, Octupole, Bend, SBend, RBend, Edge, Multipole, Hcor, Vcor, Solenoid, Cavity, Monitor, Marker, Undulator. "
     ]
    },
    {
     "cell_type": "code",
     "collapsed": true,
     "input": [
      "# defining of the drifts\n",
      "D1 = Drift(l=2.)\n",
      "D2 = Drift(l=0.6)\n",
      "D3 = Drift(l=0.3)\n",
      "D4 = Drift(l=0.7)\n",
      "D5 = Drift(l=0.9)\n",
      "D6 = Drift(l=0.2)\n",
      "\n",
      "# defining of the quads\n",
      "Q1 = Quadrupole(l=0.4, k1=-1.3)\n",
      "Q2 = Quadrupole(l=0.8, k1=1.4)\n",
      "Q3 = Quadrupole(l=0.4, k1=-1.7)\n",
      "Q4 = Quadrupole(l=0.5, k1=1.3)\n",
      "\n",
      "# defining of the bending magnet\n",
      "B = Bend(l=2.7, k1=-.06, angle=2*pi/16., e1=pi/16., e2=pi/16.)\n",
      "\n",
      "# defining of the sextupoles\n",
      "SF = Sextupole(l=0.01, k2=1.5) #random value\n",
      "SD = Sextupole(l=0.01, k2=-1.5) #random value\n",
      "\n",
      "# cell creating\n",
      "cell = (D1, Q1, D2, Q2, D3, Q3, D4, B, D5, SD, D5, SF, D6, Q4, D6, SF, D5, SD, D5, B, D4, Q3, D3, Q2, D2, Q1, D1)"
     ],
     "language": "python",
     "metadata": {},
     "outputs": [],
     "prompt_number": 5
    },
    {
     "cell_type": "markdown",
     "metadata": {},
     "source": [
      "*hint: to see a simple description of the function put cursor inside () and press **Shift-Tab** or you can type sign **?** before function. To extend dialog window press **+** *\n",
      "\n",
      "The cell is a list of the simple objects which contain a physical information of lattice elements such as length, strength, voltage and so on. In order to create a transport map for every element and bind it with lattice object we have to create new Ocelot object - MagneticLattice() which makes these things automatically. \n",
      "\n",
      "MagneticLattice(sequence, start=None, stop=None, method=MethodTM()):     \n",
      "* sequence - list of the elements,\n",
      "\n",
      "other paramenters we will consider in tutorial N2. "
     ]
    },
    {
     "cell_type": "code",
     "collapsed": false,
     "input": [
      "lat = MagneticLattice(cell)\n",
      "\n",
      "# to see total lenth of the lattice \n",
      "print(\"length of the cell: \", lat.totalLen, \"m\")"
     ],
     "language": "python",
     "metadata": {},
     "outputs": [
      {
       "output_type": "stream",
       "stream": "stdout",
       "text": [
        "length of the cell:  20.34 m\n"
       ]
      }
     ],
     "prompt_number": 6
    },
    {
     "cell_type": "markdown",
     "metadata": {},
     "source": [
      "### Optical function calculation\n",
      "Uses: \n",
      "* twiss() function and,\n",
      "* Twiss() object contains twiss parameters and other information at one certain position (s) of lattice\n",
      "\n",
      "To calculate twiss parameters you have to run **twiss(lattice, tws0=None, nPoints=None)** function. If you want to get a periodic solution leave tws0 by default. \n",
      "\n",
      "You can change the number of points over the cell, If nPoints=None, then twiss parameters are calculated at the end of each element.\n",
      "twiss() function returns list of Twiss() objects.\n",
      "\n",
      "##### You will see the Twiss object contains more information than just twiss parameters. "
     ]
    },
    {
     "cell_type": "code",
     "collapsed": false,
     "input": [
      "tws=twiss(lat, nPoints=1000)\n",
      "\n",
      "# to see twiss paraments at the begining of the cell, uncomment next line\n",
      "# print(tws[0])\n",
      "\n",
      "# to see twiss paraments at the end of the cell, uncomment next line\n",
      "# print(tws[-1])"
     ],
     "language": "python",
     "metadata": {},
     "outputs": [],
     "prompt_number": 7
    },
    {
     "cell_type": "code",
     "collapsed": false,
     "input": [
      "# plot twiss paramentrs.\n",
      "plot_opt_func(lat, tws, top_plot = [\"Dx\", \"Dy\"], legend=False, font_size=10)\n",
      "plt.show()\n",
      "\n",
      "# you also can use standard matplotlib functions for plotting\n",
      "#s = [tw.s for tw in tws]\n",
      "#bx = [tw.beta_x for tw in tws]\n",
      "#plt.plot(s, bx)\n",
      "#plt.show()"
     ],
     "language": "python",
     "metadata": {},
     "outputs": [
      {
       "metadata": {},
       "output_type": "display_data",
       "png": "[encoded data removed]",
       "text": [
        "<matplotlib.figure.Figure at 0xf7f4b10>"
       ]
      }
     ],
     "prompt_number": 8
    },
    {
     "cell_type": "code",
     "collapsed": false,
     "input": [
      "# you can play with quadrupole strength and try to make achromat\n",
      "Q4.k1 = 1.25\n",
      "\n",
      "# to make achromat uncomment next line\n",
      "# Q4.k1 =  1.18543769836\n",
      "# To use matching function, please see ocelot/demos/ebeam/dba.py \n",
      "\n",
      "# updating transfer maps after changing element parameters. \n",
      "lat.update_transfer_maps()\n",
      "\n",
      "# recalculate twiss parameters \n",
      "tws=twiss(lat, nPoints=1000)\n",
      "\n",
      "plot_opt_func(lat, tws, legend=False)\n",
      "plt.show()"
     ],
     "language": "python",
     "metadata": {},
     "outputs": [
      {
       "metadata": {},
       "output_type": "display_data",
       "png": "[encoded data removed]",
       "text": [
        "<matplotlib.figure.Figure at 0x106b1ab0>"
       ]
      }
     ],
     "prompt_number": 10
    },
    {
     "cell_type": "code",
     "collapsed": true,
     "input": [],
     "language": "python",
     "metadata": {},
     "outputs": [],
     "prompt_number": 9
    },
    {
     "cell_type": "code",
     "collapsed": false,
     "input": [],
     "language": "python",
     "metadata": {},
     "outputs": []
    }
   ],
   "metadata": {}
  }
 ]
}